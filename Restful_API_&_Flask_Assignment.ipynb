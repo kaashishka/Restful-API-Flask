{
  "nbformat": 4,
  "nbformat_minor": 0,
  "metadata": {
    "colab": {
      "provenance": []
    },
    "kernelspec": {
      "name": "python3",
      "display_name": "Python 3"
    },
    "language_info": {
      "name": "python"
    }
  },
  "cells": [
    {
      "cell_type": "markdown",
      "source": [
        "                      **********  Restful API & Flask ************"
      ],
      "metadata": {
        "id": "HPJP-K9-sUpe"
      }
    },
    {
      "cell_type": "markdown",
      "source": [
        "Ques1:What is a RESTful API?\n",
        "- Ans:A RESTful API is a type of application programming interface (API) that follows the architectural principles of Representational State Transfer (REST). It uses standard HTTP methods to interact with resources, enabling applications to exchange data and perform operations on them.\n",
        "\n",
        "Ques2:Explain the concept of API specification?\n",
        "- Ans:An API specification is a formal document that outlines the elements of an API, acting as a blueprint for its design and development. It details the API's behavior, including its operations, endpoints, input/output for each call, and the data models it uses. Essentially, it defines how an API should behave and interact with other systems.\n",
        "\n",
        "Ques3:What is Flask, and why is it popular for building APIs?\n",
        "- Ans:Flask is a lightweight Python microframework ideal for building web applications, including REST APIs. It's known for its simplicity, flexibility, and minimal dependencies, making it easy to create and customize web services. This flexibility and ease of use contribute to its popularity for API development.\n",
        "\n",
        "Ques4:What is routing in Flask?\n",
        "- Ans:In Flask, routing refers to the process of mapping specific URLs to Python functions. When a user accesses a particular URL in a Flask application, the routing mechanism determines which function should be executed to handle the request. This mapping is typically defined using the @app.route() decorator.\n",
        "\n",
        "Ques5:How do you create a simple Flask application?\n",
        "- Ans:\n",
        "A.Setting up the environment:\n",
        "Create a project directory: Choose a location and create a new directory for your Flask project. This helps organize your project files. A good practice is to create a virtual environment within this directory to isolate your project's dependencies. Use python3 -m venv venv (or similar, depending on your operating system) to create the environment.\n",
        "\n",
        "B.Installing Flask:\n",
        "Activate the virtual environment: Use source venv/bin/activate (on Linux/macOS) or venv\\Scripts\\activate (on Windows).\n",
        "Install Flask: Use the command pip install Flask. This installs the necessary Flask libraries within your virtual environment.\n",
        "\n",
        "C.Creating the application file:\n",
        "Create a Python file (e.g., app.py or main.py) inside your project directory. This file will contain your Flask application code. A minimal example looks like this:\n",
        "\n",
        "from flask import Flask\n",
        "\n",
        "app = Flask(__name__)\n",
        "\n",
        "@app.route(\"/\")\n",
        "def hello_world():\n",
        "    return \"Hello, World!\"\n",
        "\n",
        "if __name__ == \"__main__\":\n",
        "    app.run(debug=True)\n",
        "\n",
        "Ques6:What are HTTP methods used in RESTful APIs?\n",
        "- Ans:In RESTful APIs, the most commonly used HTTP methods are GET, POST, PUT, DELETE, and PATCH. These methods map to CRUD operations (Create, Read, Update, and Delete) on resources.\n",
        "\n",
        "Ques7:What is the purpose of the @app.route() decorator in Flask?\n",
        "- Ans:The @app.route() decorator in Flask is used to bind a URL path to a specific function. It essentially tells Flask which function should be executed when a user navigates to a particular URL in the web application. This process is known as routing. The decorator takes the URL path as an argument and associates it with the function it decorates. When a request comes in matching that URL, Flask's internal route map identifies and calls the corresponding function.\n",
        "For example, @app.route('/home') would associate the /home URL with the function immediately following the decorator. When a user visits /home, that function will be executed, and its return value will be sent back to the user's browser. The @app.route() decorator can also handle different HTTP methods (like GET, POST) and define dynamic URL segments using variables.\n",
        "\n",
        "Ques8:What is the difference between GET and POST HTTP methods?\n",
        "- Ans:The main difference between GET and POST HTTP methods lies in their intended use: GET is for retrieving data, while POST is for sending data to the server, often for creating or updating resources. GET requests send data in the URL, making it visible and cacheable, while POST requests send data in the request body, keeping it hidden and not typically cacheable.\n",
        "\n",
        "Ques9:How do you handle errors in Flask APIs?\n",
        "- Ans:Error handling in Flask APIs can be implemented using the @app.errorhandler decorator or the abort() function. The @app.errorhandler decorator allows you to define custom error handlers for specific HTTP status codes or exception types. The abort() function raises an HTTPException with a given status code, which can then be handled by an error handler.\n",
        "\n",
        "Ques10:How do you connect Flask to a SQL database?\n",
        "- Ans:Flask doesn’t have a built-in way to handle databases, so it relies on SQLAlchemy, a powerful library that makes working with databases easier. SQLAlchemy provides an Object Relational Mapper (ORM), allowing developers to interact with databases using Python code instead of raw SQL.\n",
        "\n",
        "Ques11:What is the role of Flask-SQLAlchemy?\n",
        "- Ans:Flask-SQLAlchemy is a Flask extension that makes using SQLAlchemy with Flask easier, providing you tools and methods to interact with your database in your Flask applications through SQLAlchemy. In this tutorial, you'll build a small student management system that demonstrates how to use the Flask-SQLAlchemy extension.\n",
        "\n",
        "Ques12:What are Flask blueprints, and how are they useful?\n",
        "- Ans:Each Flask Blueprint is an object that works very similarly to a Flask application. They both can have resources, such as static files, templates, and views that are associated with routes. However, a Flask Blueprint is not actually an application. It needs to be registered in an application before you can run it.\n",
        "\n",
        "Ques13:What is the purpose of Flask's request object?\n",
        "- Ans:The Flask request object serves as a container for all incoming data from a client's request to the server. It provides access to various components of the request.\n",
        "\n",
        "Ques14:How do you create a RESTful API endpoint using Flask?\n",
        "- Ans:To create a RESTful API endpoint using Flask, you define functions that respond to different HTTP requests (GET, POST, PUT, DELETE) at specific URLs. Here's a breakdown using a simple example of managing a list of items:\n",
        "\n",
        "from flask import Flask, request, jsonify\n",
        "\n",
        "app = Flask(__name__)\n",
        "\n",
        "items = []  # Placeholder for your data; in real applications, use a database\n",
        "\n",
        "@app.route('/items', methods=['GET'])\n",
        "def get_items():\n",
        "    return jsonify(items)\n",
        "\n",
        "@app.route('/items', methods=['POST'])\n",
        "def create_item():\n",
        "    data = request.get_json()  # Get JSON data from the request\n",
        "    if not data or 'name' not in data:  # Basic validation\n",
        "        return jsonify({'message': 'Invalid data'}), 400  # 400 Bad Request\n",
        "    item = {'name': data['name']}\n",
        "    items.append(item)\n",
        "    return jsonify(item), 201  # 201 Created\n",
        "\n",
        "@app.route('/items/<int:item_id>', methods=['GET'])\n",
        "def get_item(item_id):\n",
        "    try:\n",
        "        item = items[item_id]\n",
        "        return jsonify(item)\n",
        "    except IndexError:\n",
        "        return jsonify({'message': 'Item not found'}), 404  # 404 Not Found\n",
        "\n",
        "\n",
        "@app.route('/items/<int:item_id>', methods=['PUT'])\n",
        "def update_item(item_id):\n",
        "    data = request.get_json()\n",
        "    if not data or 'name' not in data:\n",
        "        return jsonify({'message': 'Invalid data'}), 400\n",
        "    try:\n",
        "        items[item_id]['name'] = data['name'] # Updating name of the item\n",
        "        return jsonify(items[item_id])\n",
        "    except IndexError:\n",
        "        return jsonify({'message': 'Item not found'}), 404\n",
        "\n",
        "\n",
        "@app.route('/items/<int:item_id>', methods=['DELETE'])\n",
        "def delete_item(item_id):\n",
        "    try:\n",
        "        del items[item_id]\n",
        "        return '', 204 # 204 No Content\n",
        "    except IndexError:\n",
        "        return jsonify({'message': 'Item not found'}), 404\n",
        "\n",
        "if __name__ == '__main__':\n",
        "    app.run(debug=True)\n",
        "\n",
        "Ques15:What is the purpose of Flask's jsonify() function?\n",
        "- Ans:Flask's jsonify() function simplifies creating JSON responses in web applications. It takes Python objects (usually dictionaries) and converts them into a JSON-formatted string, automatically setting the Content-Type header to application/json and returning a Flask Response object. This allows developers to focus on the data they want to send back to the client, without worrying about manual serialization or header management.\n",
        "\n",
        "Ques16:Explain Flask’s url_for() function?\n",
        "- Ans:The url_for() function in Flask generates a URL to a specific function dynamically. It accepts the name of the view function as its first argument and any number of keyword arguments, each corresponding to the variable part of the URL rule. This approach to building URLs dynamically avoids hardcoding URLs in the application, making it more maintainable. If the URL structure changes, only the route definition needs to be updated, and all calls to url_for() will automatically generate the correct URLs.\n",
        "\n",
        "Ques17:How does Flask handle static files (CSS, JavaScript, etc.)?\n",
        "- Ans:Flask automatically handles static files such as CSS, JavaScript, and images through a dedicated folder named static located in the same directory as the main application file. When a Flask application is created, it automatically sets up a route, /static, which serves files from this folder.\n",
        "\n",
        "Ques18:What is an API specification, and how does it help in building a Flask API?\n",
        "- Ans:An API specification offers clear, standardized guidelines detailing how an API should operate and interact with other software components. It ensures consistent communication by defining expected behavior, data formats, and protocols.\n",
        "\n",
        "Ques19:What are HTTP status codes, and why are they important in a Flask API?\n",
        "- Ans:HTTP status codes are three-digit codes that indicate the outcome of an API request. They are included in the API's response to the API client, and they include important information that helps the client know how to proceed.\n",
        "\n",
        "Ques20:How do you handle POST requests in Flask?\n",
        "- Ans:Handling POST requests in Flask involves specifying the methods argument in the @app.route decorator and accessing the data sent in the request body using the request object. Here's how it can be done: Specify the HTTP method.\n",
        "\n",
        "Ques21:How would you secure a Flask API?\n",
        "- Ans:Securing a Flask API involves multiple layers of protection, addressing different types of vulnerabilities. Here’s a comprehensive approach to securing your Flask APIs:\n",
        "\n",
        "A.Transport Layer Security (TLS/SSL):\n",
        "B.Authentication:\n",
        "C.Authorization:\n",
        "D.Input Validation and Sanitization:\n",
        "E.Protection against common web vulnerabilities:\n",
        "F.Other Important Security Measures:\n",
        "G.Logging:\n",
        "\n",
        "Ques22:What is the significance of the Flask-RESTful extension?\n",
        "- Ans:The Flask RESTful extension significantly simplifies REST API development within Flask applications. It provides a more structured and efficient way to define API endpoints, handle HTTP methods, and manage resources compared to using Flask directly. Flask RESTful is particularly helpful for building RESTful APIs, offering features like automatic request parsing, response formatting, and resource-oriented design.\n",
        "\n",
        "Ques23:What is the role of Flask’s session object?\n",
        "- Ans:In Flask, the session object allows you to store user-specific data across multiple HTTP requests. It acts as a way to persist data between different interactions with a web application, making it possible to remember information like login status, preferences, or other user-related data. Essentially, it enables Flask to maintain a state of the user's interaction with the application."
      ],
      "metadata": {
        "id": "XYJ3YfN3sMPJ"
      }
    },
    {
      "cell_type": "markdown",
      "source": [
        "                            ******** Practical **************"
      ],
      "metadata": {
        "id": "xWned9uC2-GS"
      }
    },
    {
      "cell_type": "code",
      "source": [
        "#Ques1: How do you create a basic Flask application?\n",
        "from flask import Flask\n",
        "\n",
        "app = Flask(__name__)\n",
        "\n",
        "@app.route('/')\n",
        "def hello_world():\n",
        "    return 'Hello, World!'\n",
        "\n",
        "if __name__ == '__main__':\n",
        "    app.run(debug=True)"
      ],
      "metadata": {
        "colab": {
          "base_uri": "https://localhost:8080/"
        },
        "id": "CGsaEhwA3FCj",
        "outputId": "d336a1be-2702-4b0f-be16-c7b91f8c8862"
      },
      "execution_count": null,
      "outputs": [
        {
          "output_type": "stream",
          "name": "stdout",
          "text": [
            " * Serving Flask app '__main__'\n",
            " * Debug mode: on\n"
          ]
        },
        {
          "output_type": "stream",
          "name": "stderr",
          "text": [
            "INFO:werkzeug:\u001b[31m\u001b[1mWARNING: This is a development server. Do not use it in a production deployment. Use a production WSGI server instead.\u001b[0m\n",
            " * Running on http://127.0.0.1:5000\n",
            "INFO:werkzeug:\u001b[33mPress CTRL+C to quit\u001b[0m\n",
            "INFO:werkzeug: * Restarting with stat\n"
          ]
        }
      ]
    },
    {
      "cell_type": "code",
      "source": [
        "#Ques2:How do you serve static files like images or CSS in Flask?\n",
        "from flask import Flask, send_from_directory\n",
        "\n",
        "app = Flask(__name__)\n",
        "\n",
        "@app.route('/static/<path:filename>')\n",
        "def serve_static(filename):\n",
        "    return send_from_directory('static', filename)\n",
        "\n",
        "app = Flask(__name__)\n",
        "\n",
        "@app.route('/static/<path:filename>')\n",
        "def serve_static(filename):\n",
        "    return send_from_directory('static', filename)"
      ],
      "metadata": {
        "id": "Qtw3di6-3Mta"
      },
      "execution_count": 1,
      "outputs": []
    },
    {
      "cell_type": "code",
      "source": [
        "#Ques3:How do you define different routes with different HTTP methods in Flask?\n",
        "from flask import Flask, request, jsonify\n",
        "\n",
        "app = Flask(__name__)\n",
        "\n",
        "@app.route('/items', methods=['GET'])\n",
        "def get_all_items():\n",
        "    return jsonify({'message': 'Getting all items'}), 200\n",
        "\n",
        "@app.route('/items', methods=['POST'])\n",
        "def create_item():\n",
        "    data = request.get_json()\n",
        "    return jsonify({'message': 'Creating a new item', 'data': data}), 201\n",
        "\n",
        "@app.route('/items/<int:item_id>', methods=['GET'])\n",
        "def get_item(item_id):\n",
        "    return jsonify({'message': f'Getting item with ID {item_id}'}), 200\n",
        "\n",
        "@app.route('/items/<int:item_id>', methods=['PUT'])\n",
        "def update_item(item_id):\n",
        "    data = request.get_json()\n",
        "    return jsonify({'message': f'Updating item with ID {item_id}', 'data': data}), 200\n",
        "\n",
        "@app.route('/items/<int:item_id>', methods=['DELETE'])\n",
        "def delete_item(item_id):\n",
        "    return jsonify({'message': f'Deleting item with ID {item_id}'}), 204\n",
        "\n",
        "\n",
        "if __name__ == '__main__':\n",
        "    app.run(debug=True)"
      ],
      "metadata": {
        "colab": {
          "base_uri": "https://localhost:8080/"
        },
        "id": "sdEEnnMT3nvC",
        "outputId": "c6f83b18-24e5-479b-be91-34963c9a640a"
      },
      "execution_count": null,
      "outputs": [
        {
          "output_type": "stream",
          "name": "stdout",
          "text": [
            " * Serving Flask app '__main__'\n",
            " * Debug mode: on\n"
          ]
        },
        {
          "output_type": "stream",
          "name": "stderr",
          "text": [
            "INFO:werkzeug:\u001b[31m\u001b[1mWARNING: This is a development server. Do not use it in a production deployment. Use a production WSGI server instead.\u001b[0m\n",
            " * Running on http://127.0.0.1:5000\n",
            "INFO:werkzeug:\u001b[33mPress CTRL+C to quit\u001b[0m\n",
            "INFO:werkzeug: * Restarting with stat\n"
          ]
        }
      ]
    },
    {
      "cell_type": "code",
      "source": [
        "#Ques4:How do you render HTML templates in Flask?\n",
        "from flask import Flask, render_template\n",
        "\n",
        "app = Flask(__name__)\n",
        "\n",
        "@app.route('/')\n",
        "def index():\n",
        "    return render_template('index.html')\n",
        "\n",
        "if __name__ == '__main__':\n",
        "    app.run(debug=True)"
      ],
      "metadata": {
        "colab": {
          "base_uri": "https://localhost:8080/"
        },
        "id": "V9Kbf_SZ4WH4",
        "outputId": "28a30512-2df4-44d0-cdb2-2aff0f2682ac"
      },
      "execution_count": null,
      "outputs": [
        {
          "output_type": "stream",
          "name": "stdout",
          "text": [
            " * Serving Flask app '__main__'\n",
            " * Debug mode: on\n"
          ]
        },
        {
          "output_type": "stream",
          "name": "stderr",
          "text": [
            "INFO:werkzeug:\u001b[31m\u001b[1mWARNING: This is a development server. Do not use it in a production deployment. Use a production WSGI server instead.\u001b[0m\n",
            " * Running on http://127.0.0.1:5000\n",
            "INFO:werkzeug:\u001b[33mPress CTRL+C to quit\u001b[0m\n",
            "INFO:werkzeug: * Restarting with stat\n"
          ]
        }
      ]
    },
    {
      "cell_type": "code",
      "source": [
        "#Ques5:How can you generate URLs for routes in Flask using url_for?\n",
        "from flask import Flask, url_for\n",
        "\n",
        "app = Flask(__name__)\n",
        "\n",
        "@app.route('/')\n",
        "def index():\n",
        "    return 'This is the home page.'\n",
        "\n",
        "@app.route('/about')\n",
        "def about():\n",
        "    return 'This is the about page.'"
      ],
      "metadata": {
        "id": "X5oyeqvX5M0o"
      },
      "execution_count": 2,
      "outputs": []
    },
    {
      "cell_type": "code",
      "source": [
        "#Ques6:How do you handle forms in Flask?\n",
        "from flask import Flask, render_template, request\n",
        "\n",
        "app = Flask(__name__)\n",
        "\n",
        "@app.route('/')\n",
        "def index():\n",
        "    return render_template('form.html')"
      ],
      "metadata": {
        "id": "eXxWiKlu7WGD"
      },
      "execution_count": 3,
      "outputs": []
    },
    {
      "cell_type": "code",
      "source": [
        "#Ques7:How can you validate form data in Flask?\n",
        "from flask import Flask, render_template, request\n",
        "\n",
        "app = Flask(__name__)\n",
        "\n",
        "@app.route('/')\n",
        "def index():\n",
        "    return render_template('form.html')"
      ],
      "metadata": {
        "id": "rDVAaBLo7R0b"
      },
      "execution_count": null,
      "outputs": []
    },
    {
      "cell_type": "code",
      "source": [
        "#Ques8:How do you manage sessions in Flask?\n",
        "if 'username' in session:\n",
        "    return f'Logged in as {session[\"username\"]}'\n",
        "  return 'You are not logged in'\n",
        "\n",
        "@app.route('/login', methods=['GET', 'POST'])\n",
        "def login():\n",
        "  if request.method == 'POST':\n",
        "    session['username'] = request.form['username']\n",
        "    return redirect(url_for('index'))\n",
        "  return '''\n",
        "        <form method=\"post\">\n",
        "            <p><input type=text name=username>\n",
        "            <p><input type=submit value=Login>\n",
        "        </form>\n",
        "    '''\n",
        "\n",
        "@app.route('/logout')\n",
        "def logout():\n",
        "# remove the username from the session if it's there\n",
        "  session.pop('username', None)\n",
        "  return redirect(url_for('index'))\n",
        "\n",
        "if __name__ == '__main__':\n",
        "  from flask import redirect, url_for\n",
        "  app.run(debug=True)"
      ],
      "metadata": {
        "id": "jjAEq3p77NT1",
        "colab": {
          "base_uri": "https://localhost:8080/",
          "height": 106
        },
        "outputId": "b9ac2caf-7c29-4b6d-a90a-abfbb928ae1b"
      },
      "execution_count": 7,
      "outputs": [
        {
          "output_type": "error",
          "ename": "IndentationError",
          "evalue": "unindent does not match any outer indentation level (<tokenize>, line 4)",
          "traceback": [
            "\u001b[0;36m  File \u001b[0;32m\"<tokenize>\"\u001b[0;36m, line \u001b[0;32m4\u001b[0m\n\u001b[0;31m    return 'You are not logged in'\u001b[0m\n\u001b[0m    ^\u001b[0m\n\u001b[0;31mIndentationError\u001b[0m\u001b[0;31m:\u001b[0m unindent does not match any outer indentation level\n"
          ]
        }
      ]
    },
    {
      "cell_type": "code",
      "source": [
        "#Ques9:How do you redirect to a different route in Flask?\n",
        "from flask import Flask, redirect, url_for\n",
        "\n",
        "app = Flask(__name__)\n",
        "\n",
        "@app.route('/')\n",
        "def index():\n",
        "    return 'This is the home page.'\n",
        "\n",
        "@app.route('/about')\n",
        "def about():\n",
        "    return 'This is the about page.'"
      ],
      "metadata": {
        "id": "A7oUR9LP5uNC"
      },
      "execution_count": 8,
      "outputs": []
    },
    {
      "cell_type": "code",
      "source": [
        "#Ques10:How do you handle errors in Flask (e.g., 404)?\n",
        "from flask import Flask, render_template, request\n",
        "\n",
        "app = Flask(__name__)\n",
        "\n",
        "@app.route('/')\n",
        "def index():\n",
        "    return render_template('index.html')"
      ],
      "metadata": {
        "id": "Mfz78MV97EBX"
      },
      "execution_count": 9,
      "outputs": []
    },
    {
      "cell_type": "code",
      "source": [
        "#Ques11:How do you structure a Flask app using Blueprints?\n",
        "from flask import Flask\n",
        "from blueprint_module import blueprint_name\n",
        "\n",
        "app = Flask(__name__)\n",
        "\n",
        "app.register_blueprint(blueprint_name)"
      ],
      "metadata": {
        "id": "xMG04z94e3xM"
      },
      "execution_count": null,
      "outputs": []
    },
    {
      "cell_type": "code",
      "source": [
        "#Ques12:How do you define a custom Jinja filter in Flask?\n",
        "from flask import Flask\n",
        "from jinja2 import Environment, FileSystemLoader\n",
        "\n",
        "app = Flask(__name__)\n",
        "\n",
        "env = Environment(loader=FileSystemLoader('templates'))"
      ],
      "metadata": {
        "id": "LJKz07zM6FKm"
      },
      "execution_count": 11,
      "outputs": []
    },
    {
      "cell_type": "code",
      "source": [
        "#Ques13:How can you redirect with query parameters in Flask?\n",
        "from flask import Flask, redirect, url_for\n",
        "\n",
        "app = Flask(__name__)\n",
        "\n",
        "@app.route('/')\n",
        "def index():\n",
        "    return redirect(url_for('about', name='John'))"
      ],
      "metadata": {
        "id": "F9e71ohX6Ytf"
      },
      "execution_count": 12,
      "outputs": []
    },
    {
      "cell_type": "code",
      "source": [
        "#Ques14:How do you return JSON responses in Flask?\n",
        "from flask import Flask, jsonify\n",
        "\n",
        "app = Flask(__name__)\n",
        "\n",
        "@app.route('/api/data')\n",
        "def get_data():\n",
        "    data = {'message': 'Hello, Flask!'}\n",
        "    return jsonify(data)"
      ],
      "metadata": {
        "id": "FSqNzKi96f7O"
      },
      "execution_count": 13,
      "outputs": []
    },
    {
      "cell_type": "code",
      "source": [
        "#Ques15:How do you capture URL parameters in Flask?\n",
        "from flask import Flask, request\n",
        "\n",
        "app = Flask(__name__)\n",
        "\n",
        "@app.route('/user/<username>')\n",
        "def show_user_profile(username):\n",
        "    return f'User: {username}'"
      ],
      "metadata": {
        "id": "kbcSkF0o6nqI"
      },
      "execution_count": 14,
      "outputs": []
    }
  ]
}